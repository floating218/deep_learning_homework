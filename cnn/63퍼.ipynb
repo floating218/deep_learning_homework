{
 "cells": [
  {
   "cell_type": "code",
   "execution_count": 72,
   "metadata": {},
   "outputs": [],
   "source": [
    "import pickle\n",
    "import numpy as np\n",
    "import tensorflow as tf\n"
   ]
  },
  {
   "cell_type": "code",
   "execution_count": 73,
   "metadata": {
    "collapsed": true
   },
   "outputs": [],
   "source": [
    "def unpickle(file):\n",
    "    with open(file, 'rb') as fo:\n",
    "        data = pickle.load(fo, encoding='bytes')\n",
    "    return data"
   ]
  },
  {
   "cell_type": "code",
   "execution_count": 74,
   "metadata": {},
   "outputs": [
    {
     "data": {
      "text/plain": [
       "(10000, 3072)"
      ]
     },
     "execution_count": 74,
     "metadata": {},
     "output_type": "execute_result"
    }
   ],
   "source": [
    "#load the CIFAR-10\n",
    "def load_CIFAR10(pos, n_chunks=1):\n",
    "    Xtr = []\n",
    "    Ytr = []\n",
    "    for i in range(n_chunks): #batch_1 ~ batch_5에 대해 : batch 1개당 10000개의 그림이다.\n",
    "        train = unpickle(pos + '/data_batch_{0}'.format(i + 1)) #경로/data_batch\n",
    "        Xtr.extend(train[b'data'])\n",
    "        Ytr.extend(train[b'labels'])\n",
    "        test = unpickle(pos + '/test_batch')\n",
    "        Xte = test[b'data']\n",
    "        Yte = test[b'labels']\n",
    "    return np.array(Xtr), np.array(Ytr), np.array(Xte), np.array(Yte)\n",
    "\n",
    "train=unpickle('cifar-10-batches-py/data_batch_1')\n",
    "xtrain=np.array(train[b'data'])\n",
    "xtrain.shape"
   ]
  },
  {
   "cell_type": "code",
   "execution_count": 75,
   "metadata": {
    "collapsed": true
   },
   "outputs": [],
   "source": [
    "# expresses the label data in one-hot encoding.\n",
    "def onehot_encoding (Ytr, Yte):\n",
    "    Ytr_onehot = np.zeros((Ytr.size, 10))\n",
    "    Yte_onehot = np.zeros((Yte.size, 10))\n",
    "    for i in range(Ytr.size):\n",
    "        Ytr_onehot[i][Ytr[i]] = 1\n",
    "    for i in range(Yte.size):\n",
    "        Yte_onehot[i][Yte[i]] = 1\n",
    "    return Ytr_onehot, Yte_onehot"
   ]
  },
  {
   "cell_type": "code",
   "execution_count": 76,
   "metadata": {},
   "outputs": [
    {
     "data": {
      "text/plain": [
       "(50000, 10)"
      ]
     },
     "execution_count": 76,
     "metadata": {},
     "output_type": "execute_result"
    }
   ],
   "source": [
    "# load the train and test data\n",
    "Xtr, Ytr, Xte, Yte = load_CIFAR10('cifar-10-batches-py', 5)\n",
    "                                 \n",
    "# image data, each data size is 32*32*3\n",
    "Xtr = Xtr.reshape(50000, 3, 32, 32).transpose(0,2,3,1).astype(\"float\")\n",
    "#50000 32 32 3\n",
    "\n",
    "Xte= Xte.reshape(10000, 3, 32, 32).transpose(0,2,3,1).astype(\"float\")\n",
    "#10000 32 32 3\n",
    "\n",
    "# label data of train and test data, label data is represented by one-hot encoding\n",
    "Ytr_onehot, Yte_onehot = onehot_encoding(Ytr, Yte)\n",
    "#50000 10\n",
    "#10000 10\n",
    "\n",
    "Xtr.shape\n",
    "Ytr_onehot.shape"
   ]
  },
  {
   "cell_type": "code",
   "execution_count": 77,
   "metadata": {
    "collapsed": true
   },
   "outputs": [],
   "source": [
    "### placeholder 생성 (X변수, Y변수)\n",
    "\n",
    "X = tf.placeholder(tf.float32, [None, 32, 32, 3])\n",
    "#None: 이미지판의 개수\n",
    "#32: 판의 세로 길이. 즉 행의 수\n",
    "#32: 판의 가로 길이. 즉 열의 수\n",
    "#3: 가장 안쪽 내용물 []의 차원 수.  몇개의 숫자를 보유하는가?\n",
    "\n",
    "Y = tf.placeholder(tf.float32, [None, 10])\n",
    "\n",
    "\n",
    "#dropout_prob = tf.placeholder(tf.float32)"
   ]
  },
  {
   "cell_type": "code",
   "execution_count": 78,
   "metadata": {},
   "outputs": [
    {
     "name": "stdout",
     "output_type": "stream",
     "text": [
      "Tensor(\"Conv2D_16:0\", shape=(?, 32, 32, 32), dtype=float32)\n",
      "Tensor(\"Relu_16:0\", shape=(?, 32, 32, 32), dtype=float32)\n",
      "Tensor(\"MaxPool_11:0\", shape=(?, 16, 16, 32), dtype=float32)\n"
     ]
    }
   ],
   "source": [
    "### Implement the layers of CNNs ###\n",
    "\n",
    "### Variable 생성 (W1W2....) - 랜덤으로 돌려서 구해야 하는 것\n",
    "W1 = tf.Variable(tf.random_normal([3,3,3,32], stddev=0.01)) \n",
    "# padding = 'SAME' keeps output size equal to input.\n",
    "# 첫번째 conv layer의 w1이며, 추후에 랜덤으로 생성할 것이다\n",
    "# 3: 필터의 세로 길이\n",
    "# 3: 필터의 가로 길이\n",
    "# 1: 가장 안쪽 내용물의 차원수 위의 4번째와 같다\n",
    "# 32: 필터의 개수\n",
    "\n",
    "#1번-convolution\n",
    "L1 = tf.nn.conv2d(X, W1, strides=[1,1,1,1], padding='SAME')\n",
    "#tf.nn.conv2d(input하는X, weight, strides, padding)\n",
    "#strides=[이미지는1로고정. 세로는1씩이동. 가로는 1씩이동. 필터는1로고정]\n",
    "#same: 필터를 거치고 나서 사이즈를 같게 유지싴켜줌\n",
    "print(L1)\n",
    "\n",
    "#1번-relu\n",
    "L1 = tf.nn.relu(L1)\n",
    "print(L1)\n",
    "# Pooling layer\n",
    "\n",
    "#1번-pooling\n",
    "L1 = tf.nn.max_pool(L1, ksize=[1, 2, 2, 1], strides=[1, 2, 2, 1], padding='SAME')\n",
    "# tf.nn.max_pool(L1,)\n",
    "# 1로 고정(?) 아마...\n",
    "# 2*2 풀링필터는 2x2 사이즈이다\n",
    "# 풀링필터의 개수는 1겹\n",
    "# ksize풀링필터의 사이즈 = 1 2 2 1\n",
    "# strides=1 2 2 1 (2칸씩 움직임)  -> 32*32 (32층) -> 16*16 (32층)으로 줄어든다\n",
    "# padding=same\n",
    "print(L1)\n",
    "\n",
    "\n",
    "#->최종 결과: ?, 16, 16, 32"
   ]
  },
  {
   "cell_type": "code",
   "execution_count": 108,
   "metadata": {},
   "outputs": [
    {
     "name": "stdout",
     "output_type": "stream",
     "text": [
      "Tensor(\"Conv2D_22:0\", shape=(?, 16, 16, 64), dtype=float32)\n",
      "Tensor(\"Relu_27:0\", shape=(?, 16, 16, 64), dtype=float32)\n",
      "Tensor(\"MaxPool_17:0\", shape=(?, 8, 8, 64), dtype=float32)\n"
     ]
    }
   ],
   "source": [
    "### 2번 Layer\n",
    "\n",
    "# Variable\n",
    "W2 = tf.Variable(tf.random_normal([3, 3, 32, 64], stddev=0.01))\n",
    "# 3*3 필터\n",
    "# 32: 아까 32층 필터이므로\n",
    "# 새필터는 64층 필터\n",
    "\n",
    "# convolution\n",
    "L2 = tf.nn.conv2d(L1, W2, strides=[1, 1, 1, 1], padding='SAME')\n",
    "print(L2)\n",
    "\n",
    "L2 = tf.nn.relu(L2)\n",
    "print(L2)\n",
    "\n",
    "L2 = tf.nn.max_pool(L2, ksize=[1, 2, 2, 1], strides=[1, 2, 2, 1], padding='SAME')\n",
    "print(L2)"
   ]
  },
  {
   "cell_type": "code",
   "execution_count": 98,
   "metadata": {},
   "outputs": [
    {
     "name": "stdout",
     "output_type": "stream",
     "text": [
      "Tensor(\"Conv2D_20:0\", shape=(?, 8, 8, 128), dtype=float32)\n",
      "Tensor(\"MaxPool_15:0\", shape=(?, 4, 4, 128), dtype=float32)\n",
      "Tensor(\"Conv2D_21:0\", shape=(?, 4, 4, 256), dtype=float32)\n",
      "Tensor(\"MaxPool_16:0\", shape=(?, 2, 2, 256), dtype=float32)\n"
     ]
    }
   ],
   "source": [
    "### 추가 Layer들\n",
    "W2_2= tf.Variable(tf.random_normal([3, 3, 64, 128], stddev=0.01))\n",
    "L2_2=tf.nn.conv2d(L2, W2_2, strides=[1, 1, 1, 1], padding='SAME')\n",
    "print(L2_2)\n",
    "L2_2= tf.nn.relu(L2_2)\n",
    "L2_2 = tf.nn.max_pool(L2_2, ksize=[1, 2, 2, 1], strides=[1, 2, 2, 1], padding='SAME')\n",
    "print(L2_2)\n",
    "\n",
    "W2_3= tf.Variable(tf.random_normal([3, 3, 128, 256], stddev=0.01))\n",
    "L2_3=tf.nn.conv2d(L2_2, W2_3, strides=[1, 1, 1, 1], padding='SAME')\n",
    "print(L2_3)\n",
    "L2_3= tf.nn.relu(L2_3)\n",
    "L2_3 = tf.nn.max_pool(L2_3, ksize=[1, 2, 2, 1], strides=[1, 2, 2, 1], padding='SAME')\n",
    "print(L2_3)"
   ]
  },
  {
   "cell_type": "code",
   "execution_count": 109,
   "metadata": {},
   "outputs": [
    {
     "name": "stdout",
     "output_type": "stream",
     "text": [
      "Tensor(\"Reshape_67:0\", shape=(?, 4096), dtype=float32)\n",
      "Tensor(\"MatMul_19:0\", shape=(?, 256), dtype=float32)\n",
      "Tensor(\"Relu_28:0\", shape=(?, 256), dtype=float32)\n"
     ]
    }
   ],
   "source": [
    "### 3번 Layer: 2차원으로 통합해준다\n",
    "\n",
    "W3 = tf.Variable(tf.random_normal([8*8*64, 256], stddev=0.01))\n",
    "#1개의 이미지당 256개 수로 도출시켜주는 weight이다 \n",
    "\n",
    "L3 = tf.reshape(L2, [-1, 8*8*64])\n",
    "#위에서 L2의 사이즈가 8*8*64이므로\n",
    "print(L3)\n",
    "\n",
    "\n",
    "L3 = tf.matmul(L3, W3)\n",
    "# ? 8864 X 8864 256\n",
    "print(L3)\n",
    "\n",
    "L3 = tf.nn.relu(L3)\n",
    "print(L3)\n",
    "\n",
    "#L3 = tf.nn.dropout(L3, dropout_prob)\n",
    "#print(L3)"
   ]
  },
  {
   "cell_type": "code",
   "execution_count": 110,
   "metadata": {},
   "outputs": [
    {
     "name": "stdout",
     "output_type": "stream",
     "text": [
      "<tf.Variable 'Variable_43:0' shape=(256, 10) dtype=float32_ref>\n",
      "Tensor(\"MatMul_20:0\", shape=(?, 10), dtype=float32)\n"
     ]
    }
   ],
   "source": [
    "### 4번 Layer: Fully connected layer\n",
    "\n",
    "W4 = tf.Variable(tf.random_normal([256, 10], stddev=0.01))\n",
    "# 1의 이미지당 10개 라벨로 도출해주는 weight이다\n",
    "print(W4)\n",
    "\n",
    "model = tf.matmul(L3, W4)\n",
    "# ? 256 X 256 10 \n",
    "print(model)\n",
    "\n",
    "#cost = tf.reduce_mean(tf.nn.softmax_cross_entropy_with_logits(logits=model, labels=Y))\n",
    "#optimizer = tf.train.AdamOptimizer(0.005).minimize(cost)\n",
    "\n",
    "#init = tf.global_variables_initializer()\n",
    "#sess = tf.Session()\n",
    "#sess.run(init) "
   ]
  },
  {
   "cell_type": "code",
   "execution_count": 118,
   "metadata": {},
   "outputs": [
    {
     "data": {
      "text/plain": [
       "25"
      ]
     },
     "execution_count": 118,
     "metadata": {},
     "output_type": "execute_result"
    }
   ],
   "source": [
    "# cost function, you can change the implementation\n",
    "cost = tf.reduce_mean(tf.nn.softmax_cross_entropy_with_logits(logits=model, labels=Y))\n",
    "#optimizer = tf.train.AdamOptimizer(0.005).minimize(cost)\n",
    "optimizer = tf.train.GradientDescentOptimizer(0.005).minimize(cost)\n",
    "\n",
    "# initialize the variables\n",
    "init = tf.global_variables_initializer()\n",
    "sess = tf.Session()\n",
    "sess.run(init)\n",
    "\n",
    "batch_size = 2000\n",
    "total_batch = int(50000 / batch_size)\n",
    "total_batch"
   ]
  },
  {
   "cell_type": "code",
   "execution_count": 115,
   "metadata": {
    "collapsed": true
   },
   "outputs": [],
   "source": [
    "### Implement the train process ###\n",
    "\n",
    "\n"
   ]
  },
  {
   "cell_type": "code",
   "execution_count": 116,
   "metadata": {
    "collapsed": true
   },
   "outputs": [],
   "source": [
    "### Implement the test process ###"
   ]
  },
  {
   "cell_type": "code",
   "execution_count": null,
   "metadata": {},
   "outputs": [
    {
     "name": "stdout",
     "output_type": "stream",
     "text": [
      "Epoch: 0001 Avg. cost =  0.944\n",
      "Accuracy 0.6381\n",
      "Epoch: 0002 Avg. cost =  0.924\n",
      "Accuracy 0.6328\n",
      "Epoch: 0003 Avg. cost =  0.917\n",
      "Accuracy 0.6312\n",
      "Epoch: 0004 Avg. cost =  0.916\n",
      "Accuracy 0.6097\n",
      "Epoch: 0005 Avg. cost =  0.904\n",
      "Accuracy 0.6204\n",
      "Epoch: 0006 Avg. cost =  0.909\n",
      "Accuracy 0.6372\n",
      "Epoch: 0007 Avg. cost =  0.892\n",
      "Accuracy 0.6306\n"
     ]
    }
   ],
   "source": [
    "#gradient,0.005, batch 2000\n",
    "\n",
    "for epoch in range(100):\n",
    "    total_cost = 0\n",
    "    \n",
    "    for i in range(total_batch): #total_batch: 나눠진 등분의 개수\n",
    "        batch_xs=Xtr[batch_size*(i):batch_size*(i+1)] #batch_size: 한등분의 그림의 개수\n",
    "        batch_ys=Ytr_onehot[batch_size*(i):batch_size*(i+1)] \n",
    "        _, curr_loss = sess.run([optimizer, cost],\n",
    "                               feed_dict={X: batch_xs,\n",
    "                                          Y: batch_ys})\n",
    "        total_cost += curr_loss\n",
    "        \n",
    "    print('Epoch:', '%04d' % (epoch +1),\n",
    "         'Avg. cost = ', '{:,.3f}'.format(total_cost/total_batch))\n",
    "    \n",
    "    correctness = tf.equal(tf.argmax(model, 1), tf.argmax(Y,1))\n",
    "    accuracy = tf.reduce_mean(tf.cast(correctness, tf.float32))\n",
    "    print('Accuracy', sess.run(accuracy, \n",
    "                           feed_dict={\n",
    "                               X:Xte,\n",
    "                               Y: Yte_onehot}))"
   ]
  },
  {
   "cell_type": "code",
   "execution_count": 32,
   "metadata": {},
   "outputs": [
    {
     "name": "stdout",
     "output_type": "stream",
     "text": [
      "Epoch: 0001 Avg. cost =  1.892\n",
      "Epoch: 0002 Avg. cost =  1.794\n",
      "Epoch: 0003 Avg. cost =  1.725\n",
      "Epoch: 0004 Avg. cost =  1.674\n",
      "Epoch: 0005 Avg. cost =  1.644\n",
      "Epoch: 0006 Avg. cost =  1.625\n",
      "Epoch: 0007 Avg. cost =  1.610\n",
      "Epoch: 0008 Avg. cost =  1.597\n",
      "Epoch: 0009 Avg. cost =  1.584\n",
      "Epoch: 0010 Avg. cost =  1.573\n"
     ]
    }
   ],
   "source": [
    "#gradient,0.002\n",
    "for epoch in range(10):\n",
    "    total_cost = 0\n",
    "    \n",
    "    for i in range(total_batch): #total_batch: 나눠진 등분의 개수\n",
    "        batch_xs=Xtr[batch_size*(i):batch_size*(i+1)] #batch_size: 한등분의 그림의 개수\n",
    "        batch_ys=Ytr_onehot[batch_size*(i):batch_size*(i+1)] \n",
    "        _, curr_loss = sess.run([optimizer, cost],\n",
    "                               feed_dict={X: batch_xs,\n",
    "                                          Y: batch_ys})\n",
    "        total_cost += curr_loss\n",
    "        \n",
    "    print('Epoch:', '%04d' % (epoch +1),\n",
    "         'Avg. cost = ', '{:,.3f}'.format(total_cost/total_batch))"
   ]
  },
  {
   "cell_type": "code",
   "execution_count": 107,
   "metadata": {},
   "outputs": [
    {
     "name": "stdout",
     "output_type": "stream",
     "text": [
      "Accuracy 0.3068\n"
     ]
    }
   ],
   "source": [
    "correctness = tf.equal(tf.argmax(model, 1), tf.argmax(Y,1))\n",
    "accuracy = tf.reduce_mean(tf.cast(correctness, tf.float32))\n",
    "print('Accuracy', sess.run(accuracy, \n",
    "                           feed_dict={\n",
    "                               X:Xte,\n",
    "                               Y: Yte_onehot}))"
   ]
  },
  {
   "cell_type": "code",
   "execution_count": 120,
   "metadata": {},
   "outputs": [
    {
     "name": "stdout",
     "output_type": "stream",
     "text": [
      "Accuracy 0.5494\n"
     ]
    }
   ],
   "source": [
    "correctness = tf.equal(tf.argmax(model, 1), tf.argmax(Y,1))\n",
    "accuracy = tf.reduce_mean(tf.cast(correctness, tf.float32))\n",
    "print('Accuracy', sess.run(accuracy, \n",
    "                           feed_dict={\n",
    "                               X:Xte,\n",
    "                               Y: Yte_onehot}))"
   ]
  },
  {
   "cell_type": "code",
   "execution_count": 122,
   "metadata": {},
   "outputs": [
    {
     "name": "stdout",
     "output_type": "stream",
     "text": [
      "Accuracy 0.5979\n"
     ]
    }
   ],
   "source": [
    "#gradient,0.005, batch 2000\n",
    "correctness = tf.equal(tf.argmax(model, 1), tf.argmax(Y,1))\n",
    "accuracy = tf.reduce_mean(tf.cast(correctness, tf.float32))\n",
    "print('Accuracy', sess.run(accuracy, \n",
    "                           feed_dict={\n",
    "                               X:Xte,\n",
    "                               Y: Yte_onehot}))"
   ]
  },
  {
   "cell_type": "code",
   "execution_count": 124,
   "metadata": {},
   "outputs": [
    {
     "name": "stdout",
     "output_type": "stream",
     "text": [
      "Accuracy 0.6276\n"
     ]
    }
   ],
   "source": [
    "#gradient,0.005, batch 2000\n",
    "correctness = tf.equal(tf.argmax(model, 1), tf.argmax(Y,1))\n",
    "accuracy = tf.reduce_mean(tf.cast(correctness, tf.float32))\n",
    "print('Accuracy', sess.run(accuracy, \n",
    "                           feed_dict={\n",
    "                               X:Xte,\n",
    "                               Y: Yte_onehot}))"
   ]
  },
  {
   "cell_type": "code",
   "execution_count": 125,
   "metadata": {},
   "outputs": [
    {
     "data": {
      "text/plain": [
       "<tf.Tensor 'Equal_8:0' shape=(?,) dtype=bool>"
      ]
     },
     "execution_count": 125,
     "metadata": {},
     "output_type": "execute_result"
    }
   ],
   "source": [
    "correctness = tf.equal(tf.argmax(model, 1), tf.argmax(Y,1))\n",
    "correctness"
   ]
  },
  {
   "cell_type": "code",
   "execution_count": null,
   "metadata": {
    "collapsed": true
   },
   "outputs": [],
   "source": []
  }
 ],
 "metadata": {
  "kernelspec": {
   "display_name": "Python 3",
   "language": "python",
   "name": "python3"
  },
  "language_info": {
   "codemirror_mode": {
    "name": "ipython",
    "version": 3
   },
   "file_extension": ".py",
   "mimetype": "text/x-python",
   "name": "python",
   "nbconvert_exporter": "python",
   "pygments_lexer": "ipython3",
   "version": "3.6.1"
  }
 },
 "nbformat": 4,
 "nbformat_minor": 2
}
