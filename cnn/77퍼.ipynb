{
 "cells": [
  {
   "cell_type": "code",
   "execution_count": 19,
   "metadata": {
    "collapsed": true
   },
   "outputs": [],
   "source": [
    "import pickle\n",
    "import numpy as np\n",
    "import tensorflow as tf\n"
   ]
  },
  {
   "cell_type": "code",
   "execution_count": 20,
   "metadata": {
    "collapsed": true
   },
   "outputs": [],
   "source": [
    "def unpickle(file):\n",
    "    with open(file, 'rb') as fo:\n",
    "        data = pickle.load(fo, encoding='bytes')\n",
    "    return data"
   ]
  },
  {
   "cell_type": "code",
   "execution_count": 21,
   "metadata": {},
   "outputs": [
    {
     "data": {
      "text/plain": [
       "(10000, 3072)"
      ]
     },
     "execution_count": 21,
     "metadata": {},
     "output_type": "execute_result"
    }
   ],
   "source": [
    "#load the CIFAR-10\n",
    "def load_CIFAR10(pos, n_chunks=1):\n",
    "    Xtr = []\n",
    "    Ytr = []\n",
    "    for i in range(n_chunks): \n",
    "        train = unpickle(pos + '/data_batch_{0}'.format(i + 1)) \n",
    "        Xtr.extend(train[b'data'])\n",
    "        Ytr.extend(train[b'labels'])\n",
    "        test = unpickle(pos + '/test_batch')\n",
    "        Xte = test[b'data']\n",
    "        Yte = test[b'labels']\n",
    "    return np.array(Xtr), np.array(Ytr), np.array(Xte), np.array(Yte)\n",
    "\n",
    "train=unpickle('cifar-10-batches-py/data_batch_1')\n",
    "xtrain=np.array(train[b'data'])\n",
    "xtrain.shape"
   ]
  },
  {
   "cell_type": "code",
   "execution_count": 22,
   "metadata": {
    "collapsed": true
   },
   "outputs": [],
   "source": [
    "# expresses the label data in one-hot encoding.\n",
    "def onehot_encoding (Ytr, Yte):\n",
    "    Ytr_onehot = np.zeros((Ytr.size, 10))\n",
    "    Yte_onehot = np.zeros((Yte.size, 10))\n",
    "    for i in range(Ytr.size):\n",
    "        Ytr_onehot[i][Ytr[i]] = 1\n",
    "    for i in range(Yte.size):\n",
    "        Yte_onehot[i][Yte[i]] = 1\n",
    "    return Ytr_onehot, Yte_onehot"
   ]
  },
  {
   "cell_type": "code",
   "execution_count": 23,
   "metadata": {},
   "outputs": [
    {
     "data": {
      "text/plain": [
       "(50000, 10)"
      ]
     },
     "execution_count": 23,
     "metadata": {},
     "output_type": "execute_result"
    }
   ],
   "source": [
    "# load the train and test data\n",
    "Xtr, Ytr, Xte, Yte = load_CIFAR10('cifar-10-batches-py', 5)\n",
    "                                 \n",
    "# image data, each data size is 32*32*3\n",
    "Xtr = Xtr.reshape(50000, 3, 32, 32).transpose(0,2,3,1).astype(\"float\")\n",
    "#50000 32 32 3\n",
    "\n",
    "Xte= Xte.reshape(10000, 3, 32, 32).transpose(0,2,3,1).astype(\"float\")\n",
    "#10000 32 32 3\n",
    "\n",
    "# label data of train and test data, label data is represented by one-hot encoding\n",
    "Ytr_onehot, Yte_onehot = onehot_encoding(Ytr, Yte)\n",
    "#50000 10\n",
    "#10000 10\n",
    "\n",
    "Xtr.shape\n",
    "Ytr_onehot.shape"
   ]
  },
  {
   "cell_type": "code",
   "execution_count": 24,
   "metadata": {
    "collapsed": true
   },
   "outputs": [],
   "source": [
    "### placeholder 생성 (X변수, Y변수)\n",
    "\n",
    "X = tf.placeholder(tf.float32, [None, 32, 32, 3])\n",
    "\n",
    "Y = tf.placeholder(tf.float32, [None, 10])\n",
    "\n",
    "\n",
    "drop = tf.placeholder(tf.float32)"
   ]
  },
  {
   "cell_type": "code",
   "execution_count": 25,
   "metadata": {
    "collapsed": true
   },
   "outputs": [],
   "source": [
    "### 추가 Layer들\n",
    "\n",
    "def Layer(node,filtersize,pages,pooling=False,dropout=False,sd=0.01):\n",
    "    size=int(node.shape[3])\n",
    "    size2=int(node.shape[2])\n",
    "    W=tf.Variable(tf.random_normal([3, filtersize, size, pages], stddev=sd))\n",
    "    L=tf.nn.conv2d(node, W, strides=[1, 1, 1, 1], padding='SAME')\n",
    "    \n",
    "    batch_mean,batch_var=tf.nn.moments(L,[0])\n",
    "    scale=tf.Variable(tf.ones([size2,size2,pages]))\n",
    "    beta=tf.Variable(tf.zeros([size2,size2,pages]))\n",
    "    L=tf.nn.batch_normalization(L,batch_mean,batch_var,beta,scale,1e-3)   \n",
    "    \n",
    "    L=tf.nn.relu(L)\n",
    "    if pooling:\n",
    "        L=tf.nn.max_pool(node, ksize=[1, 2, 2, 1], strides=[1, 2, 2, 1], padding='SAME')\n",
    "    if dropout:\n",
    "        L= tf.nn.dropout(L, drop)\n",
    "    return L\n",
    "\n"
   ]
  },
  {
   "cell_type": "code",
   "execution_count": 26,
   "metadata": {},
   "outputs": [
    {
     "name": "stdout",
     "output_type": "stream",
     "text": [
      "Tensor(\"dropout_1/mul:0\", shape=(?, 8, 8, 256), dtype=float32)\n"
     ]
    }
   ],
   "source": [
    "### Implement the layers of CNNs ###\n",
    "### 첫 Layer \n",
    "\n",
    "first_pages=32\n",
    "W1 = tf.Variable(tf.random_normal([3,3,3,first_pages], stddev=0.01)) \n",
    "L1 = tf.nn.conv2d(X, W1, strides=[1,1,1,1], padding='SAME')\n",
    "L1 = tf.nn.relu(L1)\n",
    "L1 = tf.nn.max_pool(L1, ksize=[1, 2, 2, 1], strides=[1, 2, 2, 1], padding='SAME')\n",
    "\n",
    "L01=Layer(L1,3,64,True)\n",
    "\n",
    "L02=Layer(L01,3,256,False,True)\n",
    "\n",
    "L_last=L02\n",
    "print(L_last)\n"
   ]
  },
  {
   "cell_type": "code",
   "execution_count": 27,
   "metadata": {},
   "outputs": [
    {
     "name": "stdout",
     "output_type": "stream",
     "text": [
      "Tensor(\"MatMul_5:0\", shape=(?, 10), dtype=float32)\n"
     ]
    }
   ],
   "source": [
    "### 3번 Layer: 2차원으로 통합해준다\n",
    "\n",
    "def FC(node,fc_num):\n",
    "    size1=int(node.shape[1])\n",
    "    size2=int(node.shape[2])\n",
    "    size3=int(node.shape[3])\n",
    "    nodesize=size1*size2*size3\n",
    "    for i in range(fc_num):        \n",
    "        W=tf.Variable(tf.random_normal([nodesize, size3*2], stddev=0.01))#1개의 이미지당 256개 수로 도출시켜주는 weight이다 \n",
    "        L=tf.reshape(node, [-1, nodesize])#위에서 L2의 사이즈가 8*8*64이므로\n",
    "        L=tf.matmul(L,W)# ? 8864 X 8864 256\n",
    "        L=tf.nn.relu(L)\n",
    "    \n",
    "    ### 4번 Layer: Fully connected layer\n",
    "    W2 = tf.Variable(tf.random_normal([size3*2, 10], stddev=0.01))\n",
    "    # 1의 이미지당 10개 라벨로 도출해주는 weight이다\n",
    "    model = tf.matmul(L, W2)\n",
    "    # ? 256 X 256 10 \n",
    "\n",
    "    return model\n",
    "    \n",
    "\n",
    "model=FC(L_last,2)\n",
    "print(model)\n"
   ]
  },
  {
   "cell_type": "code",
   "execution_count": 28,
   "metadata": {},
   "outputs": [
    {
     "data": {
      "text/plain": [
       "500"
      ]
     },
     "execution_count": 28,
     "metadata": {},
     "output_type": "execute_result"
    }
   ],
   "source": [
    "# cost function, you can change the implementation\n",
    "cost = tf.reduce_mean(tf.nn.softmax_cross_entropy_with_logits(logits=model, labels=Y))\n",
    "\n",
    "optimizer = tf.train.AdamOptimizer(0.001).minimize(cost)\n",
    "#optimizer = tf.train.GradientDescentOptimizer(0.001).minimize(cost)\n",
    "\n",
    "# initialize the variables\n",
    "init = tf.global_variables_initializer()\n",
    "\n",
    "sess = tf.Session()\n",
    "sess.run(init)\n",
    "\n",
    "batch_size = 100\n",
    "total_batch = int(50000 / batch_size)\n",
    "total_batch"
   ]
  },
  {
   "cell_type": "code",
   "execution_count": null,
   "metadata": {},
   "outputs": [
    {
     "name": "stdout",
     "output_type": "stream",
     "text": [
      "Epoch: 0001 Avg. cost =  0.090\n",
      "Accuracy 0.7671\n",
      "Epoch: 0002 Avg. cost =  0.093\n",
      "Epoch: 0003 Avg. cost =  0.086\n",
      "Accuracy 0.7708\n",
      "Epoch: 0004 Avg. cost =  0.094\n",
      "Epoch: 0005 Avg. cost =  0.090\n",
      "Accuracy 0.7705\n",
      "Epoch: 0006 Avg. cost =  0.089\n",
      "Epoch: 0007 Avg. cost =  0.089\n",
      "Accuracy 0.7694\n",
      "Epoch: 0008 Avg. cost =  0.088\n"
     ]
    }
   ],
   "source": [
    "#gradient,0.001, batch 100\n",
    "\n",
    "for epoch in range(300):\n",
    "    total_cost = 0\n",
    "    \n",
    "    for i in range(total_batch): #total_batch: 나눠진 등분의 개수\n",
    "        batch_xs=Xtr[batch_size*(i):batch_size*(i+1)] #batch_size: 한등분의 그림의 개수\n",
    "        batch_ys=Ytr_onehot[batch_size*(i):batch_size*(i+1)] \n",
    "        _, curr_loss = sess.run([optimizer, cost],\n",
    "                               feed_dict={X: batch_xs,\n",
    "                                          Y: batch_ys,\n",
    "                                          drop:0.2})\n",
    "        total_cost += curr_loss\n",
    "        \n",
    "    print('Epoch:', '%04d' % (epoch +1),\n",
    "         'Avg. cost = ', '{:,.3f}'.format(total_cost/total_batch))\n",
    "    \n",
    "    if epoch%2==0:\n",
    "        correctness = tf.equal(tf.argmax(model, 1), tf.argmax(Y,1))\n",
    "        accuracy = tf.reduce_mean(tf.cast(correctness, tf.float32))\n",
    "        print('Accuracy', sess.run(accuracy, \n",
    "                           feed_dict={\n",
    "                               X:Xte,\n",
    "                               Y: Yte_onehot,\n",
    "                           drop:1}))\n",
    "    \n",
    "\n",
    "# FC하나 추가, Layer 2로 감소 후 adam,0.001, batch 100\n",
    "# batchnormalization, dropout0.2\n"
   ]
  }
 ],
 "metadata": {
  "kernelspec": {
   "display_name": "Python 3",
   "language": "python",
   "name": "python3"
  },
  "language_info": {
   "codemirror_mode": {
    "name": "ipython",
    "version": 3
   },
   "file_extension": ".py",
   "mimetype": "text/x-python",
   "name": "python",
   "nbconvert_exporter": "python",
   "pygments_lexer": "ipython3",
   "version": "3.6.4"
  }
 },
 "nbformat": 4,
 "nbformat_minor": 2
}
